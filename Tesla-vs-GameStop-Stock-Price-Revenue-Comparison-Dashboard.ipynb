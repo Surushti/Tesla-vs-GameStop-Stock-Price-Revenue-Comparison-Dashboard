1.%pip install yfinance



2.import yfinance as yf
import pandas as pd
tesla = yf.Ticker("TSLA")
tesla_data = tesla.history(period="max")
tesla_data.reset_index(inplace=True)
tesla_data.head()  



3.tesla_revenue = pd.read_csv(r"/content/tesla_revenue.csv")
tesla_revenue.tail()  # Display last 5 rows


4.gme = yf.Ticker("GME")
gme_data = gme.history(period="max")
gme_data.reset_index(inplace=True)
gme_data.head() 


5.import pandas as pd
gme_revenue = pd.read_csv(r"/content/gme_revenue.csv")
gme_revenue.tail()


6.import matplotlib.pyplot as plt
import pandas as pd
def make_graph(stock_data, revenue_data, stock):
    stock_data['Date'] = pd.to_datetime(stock_data['Date']).dt.tz_localize(None)
    revenue_data['Date'] = pd.to_datetime(revenue_data['Date']).dt.tz_localize(None)
    fig, ax1 = plt.subplots(figsize=(14,6))
    ax1.plot(stock_data['Date'], stock_data['Close'], color='blue', label='Stock Price')
    ax1.set_xlabel('Date')
    ax1.set_ylabel('Stock Price ($)', color='blue')
    ax1.tick_params(axis='y', labelcolor='blue')
    ax2 = ax1.twinx()
    ax2.plot(revenue_data['Date'], revenue_data['Revenue'], color='red', label='Revenue')
    ax2.set_ylabel('Revenue ($ Millions)', color='red')
    ax2.tick_params(axis='y', labelcolor='red')
    plt.title(f"{stock} Stock Price vs Revenue")
    plt.show()
make_graph(tesla_data, tesla_revenue, 'Tesla')


7.gme_data['Date'] = pd.to_datetime(gme_data['Date'])
gme_revenue['Date'] = pd.to_datetime(gme_revenue['Date'])
make_graph(gme_data, gme_revenue, 'GameStop')



